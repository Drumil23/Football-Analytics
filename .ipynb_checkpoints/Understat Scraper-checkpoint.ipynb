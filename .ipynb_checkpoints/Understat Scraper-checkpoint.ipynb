{
 "cells": [
  {
   "cell_type": "code",
   "execution_count": 1,
   "id": "e1775fb6",
   "metadata": {},
   "outputs": [],
   "source": [
    "# Importing the bad boys\n",
    "import requests # For URLs\n",
    "from bs4 import BeautifulSoup # Parse the page (HTML) \n",
    "import json \n",
    "import pandas as pd # JSON -> df "
   ]
  },
  {
   "cell_type": "code",
   "execution_count": null,
   "id": "715cc12b",
   "metadata": {},
   "outputs": [],
   "source": [
    "# Scraping \n",
    "base_url = \"https://understat.com/match/\"\n",
    "match = str(input(\"Enter match ID: \"))\n",
    "url = base_url + match"
   ]
  },
  {
   "cell_type": "code",
   "execution_count": null,
   "id": "44299fef",
   "metadata": {},
   "outputs": [],
   "source": [
    "type(url)"
   ]
  }
 ],
 "metadata": {
  "kernelspec": {
   "display_name": "Python 3 (ipykernel)",
   "language": "python",
   "name": "python3"
  },
  "language_info": {
   "codemirror_mode": {
    "name": "ipython",
    "version": 3
   },
   "file_extension": ".py",
   "mimetype": "text/x-python",
   "name": "python",
   "nbconvert_exporter": "python",
   "pygments_lexer": "ipython3",
   "version": "3.11.3"
  }
 },
 "nbformat": 4,
 "nbformat_minor": 5
}
